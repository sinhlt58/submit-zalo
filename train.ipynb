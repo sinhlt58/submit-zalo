{
  "nbformat": 4,
  "nbformat_minor": 0,
  "metadata": {
    "colab": {
      "name": "fine_tune_bert_tf_tpu.ipynb",
      "provenance": [],
      "collapsed_sections": []
    },
    "kernelspec": {
      "name": "python3",
      "display_name": "Python 3"
    },
    "accelerator": "TPU"
  },
  "cells": [
    {
      "cell_type": "code",
      "metadata": {
        "id": "IPGQ2b4jhg13",
        "colab_type": "code",
        "outputId": "78c51813-a078-43a8-ac58-8a1082039476",
        "colab": {
          "base_uri": "https://localhost:8080/",
          "height": 34
        }
      },
      "source": [
        "# train with google colab TPU\n",
        "%tensorflow_version 2.x"
      ],
      "execution_count": 0,
      "outputs": [
        {
          "output_type": "stream",
          "text": [
            "TensorFlow 2.x selected.\n"
          ],
          "name": "stdout"
        }
      ]
    },
    {
      "cell_type": "code",
      "metadata": {
        "id": "eOy8h0Udub74",
        "colab_type": "code",
        "colab": {}
      },
      "source": [
        "import datetime\n",
        "import json\n",
        "import os\n",
        "import pprint\n",
        "import random\n",
        "import string\n",
        "import sys\n",
        "import numpy as np\n",
        "import tensorflow as tf\n",
        "\n",
        "IS_COLAB_BACKEND = 'COLAB_GPU' in os.environ  # this is always set on Colab, the value is 0 or 1 depending on GPU presence\n",
        "if IS_COLAB_BACKEND:\n",
        "  from google.colab import auth\n",
        "  # Authenticates the Colab machine and also the TPU using your\n",
        "  # credentials so that they can access your private GCS buckets.\n",
        "  auth.authenticate_user()"
      ],
      "execution_count": 0,
      "outputs": []
    },
    {
      "cell_type": "markdown",
      "metadata": {
        "id": "XsCd5eUZDdDt",
        "colab_type": "text"
      },
      "source": [
        "### TPU or GPU detection"
      ]
    },
    {
      "cell_type": "code",
      "metadata": {
        "id": "wfUU5GsmDKGr",
        "colab_type": "code",
        "outputId": "5a9c1244-22ab-4015-8637-5f965ec91d00",
        "colab": {
          "base_uri": "https://localhost:8080/",
          "height": 1000
        }
      },
      "source": [
        "# Detect hardware\n",
        "try:\n",
        "  tpu = tf.distribute.cluster_resolver.TPUClusterResolver() # TPU detection\n",
        "  TPU_ADDRESS = 'grpc://' + os.environ['COLAB_TPU_ADDR']\n",
        "  print('TPU address is', TPU_ADDRESS)\n",
        "except ValueError:\n",
        "  tpu = None\n",
        "  gpus = tf.config.experimental.list_logical_devices(\"GPU\")\n",
        "  print (gpus)\n",
        "    \n",
        "# Select appropriate distribution strategy\n",
        "if tpu:\n",
        "  tf.config.experimental_connect_to_cluster(tpu)\n",
        "  tf.tpu.experimental.initialize_tpu_system(tpu)\n",
        "  strategy = tf.distribute.experimental.TPUStrategy(tpu)\n",
        "  print('Running on TPU ', tpu.cluster_spec().as_dict()['worker'])  \n",
        "elif len(gpus) > 1:\n",
        "  strategy = tf.distribute.MirroredStrategy([gpu.name for gpu in gpus])\n",
        "  print('Running on multiple GPUs ', [gpu.name for gpu in gpus])\n",
        "elif len(gpus) == 1:\n",
        "  strategy = tf.distribute.get_strategy() # default strategy that works on CPU and single GPU\n",
        "  print('Running on single GPU ', gpus[0].name)\n",
        "else:\n",
        "  strategy = tf.distribute.get_strategy() # default strategy that works on CPU and single GPU\n",
        "  print('Running on CPU')\n",
        "print(\"Number of accelerators: \", strategy.num_replicas_in_sync)\n",
        "\n",
        "!pip show tensorflow\n",
        "!pip install transformers\n",
        "!pip show transformers\n",
        "!ls\n",
        "from transformers import *"
      ],
      "execution_count": 0,
      "outputs": [
        {
          "output_type": "stream",
          "text": [
            "TPU address is grpc://10.68.115.210:8470\n",
            "INFO:tensorflow:Initializing the TPU system: 10.68.115.210:8470\n"
          ],
          "name": "stdout"
        },
        {
          "output_type": "stream",
          "text": [
            "INFO:tensorflow:Initializing the TPU system: 10.68.115.210:8470\n"
          ],
          "name": "stderr"
        },
        {
          "output_type": "stream",
          "text": [
            "INFO:tensorflow:Clearing out eager caches\n"
          ],
          "name": "stdout"
        },
        {
          "output_type": "stream",
          "text": [
            "INFO:tensorflow:Clearing out eager caches\n"
          ],
          "name": "stderr"
        },
        {
          "output_type": "stream",
          "text": [
            "INFO:tensorflow:Finished initializing TPU system.\n"
          ],
          "name": "stdout"
        },
        {
          "output_type": "stream",
          "text": [
            "INFO:tensorflow:Finished initializing TPU system.\n"
          ],
          "name": "stderr"
        },
        {
          "output_type": "stream",
          "text": [
            "INFO:tensorflow:Found TPU system:\n"
          ],
          "name": "stdout"
        },
        {
          "output_type": "stream",
          "text": [
            "INFO:tensorflow:Found TPU system:\n"
          ],
          "name": "stderr"
        },
        {
          "output_type": "stream",
          "text": [
            "INFO:tensorflow:*** Num TPU Cores: 8\n"
          ],
          "name": "stdout"
        },
        {
          "output_type": "stream",
          "text": [
            "INFO:tensorflow:*** Num TPU Cores: 8\n"
          ],
          "name": "stderr"
        },
        {
          "output_type": "stream",
          "text": [
            "INFO:tensorflow:*** Num TPU Workers: 1\n"
          ],
          "name": "stdout"
        },
        {
          "output_type": "stream",
          "text": [
            "INFO:tensorflow:*** Num TPU Workers: 1\n"
          ],
          "name": "stderr"
        },
        {
          "output_type": "stream",
          "text": [
            "INFO:tensorflow:*** Num TPU Cores Per Worker: 8\n"
          ],
          "name": "stdout"
        },
        {
          "output_type": "stream",
          "text": [
            "INFO:tensorflow:*** Num TPU Cores Per Worker: 8\n"
          ],
          "name": "stderr"
        },
        {
          "output_type": "stream",
          "text": [
            "INFO:tensorflow:*** Available Device: _DeviceAttributes(/job:localhost/replica:0/task:0/device:CPU:0, CPU, 0, 0)\n"
          ],
          "name": "stdout"
        },
        {
          "output_type": "stream",
          "text": [
            "INFO:tensorflow:*** Available Device: _DeviceAttributes(/job:localhost/replica:0/task:0/device:CPU:0, CPU, 0, 0)\n"
          ],
          "name": "stderr"
        },
        {
          "output_type": "stream",
          "text": [
            "INFO:tensorflow:*** Available Device: _DeviceAttributes(/job:localhost/replica:0/task:0/device:XLA_CPU:0, XLA_CPU, 0, 0)\n"
          ],
          "name": "stdout"
        },
        {
          "output_type": "stream",
          "text": [
            "INFO:tensorflow:*** Available Device: _DeviceAttributes(/job:localhost/replica:0/task:0/device:XLA_CPU:0, XLA_CPU, 0, 0)\n"
          ],
          "name": "stderr"
        },
        {
          "output_type": "stream",
          "text": [
            "INFO:tensorflow:*** Available Device: _DeviceAttributes(/job:worker/replica:0/task:0/device:CPU:0, CPU, 0, 0)\n"
          ],
          "name": "stdout"
        },
        {
          "output_type": "stream",
          "text": [
            "INFO:tensorflow:*** Available Device: _DeviceAttributes(/job:worker/replica:0/task:0/device:CPU:0, CPU, 0, 0)\n"
          ],
          "name": "stderr"
        },
        {
          "output_type": "stream",
          "text": [
            "INFO:tensorflow:*** Available Device: _DeviceAttributes(/job:worker/replica:0/task:0/device:TPU:0, TPU, 0, 0)\n"
          ],
          "name": "stdout"
        },
        {
          "output_type": "stream",
          "text": [
            "INFO:tensorflow:*** Available Device: _DeviceAttributes(/job:worker/replica:0/task:0/device:TPU:0, TPU, 0, 0)\n"
          ],
          "name": "stderr"
        },
        {
          "output_type": "stream",
          "text": [
            "INFO:tensorflow:*** Available Device: _DeviceAttributes(/job:worker/replica:0/task:0/device:TPU:1, TPU, 0, 0)\n"
          ],
          "name": "stdout"
        },
        {
          "output_type": "stream",
          "text": [
            "INFO:tensorflow:*** Available Device: _DeviceAttributes(/job:worker/replica:0/task:0/device:TPU:1, TPU, 0, 0)\n"
          ],
          "name": "stderr"
        },
        {
          "output_type": "stream",
          "text": [
            "INFO:tensorflow:*** Available Device: _DeviceAttributes(/job:worker/replica:0/task:0/device:TPU:2, TPU, 0, 0)\n"
          ],
          "name": "stdout"
        },
        {
          "output_type": "stream",
          "text": [
            "INFO:tensorflow:*** Available Device: _DeviceAttributes(/job:worker/replica:0/task:0/device:TPU:2, TPU, 0, 0)\n"
          ],
          "name": "stderr"
        },
        {
          "output_type": "stream",
          "text": [
            "INFO:tensorflow:*** Available Device: _DeviceAttributes(/job:worker/replica:0/task:0/device:TPU:3, TPU, 0, 0)\n"
          ],
          "name": "stdout"
        },
        {
          "output_type": "stream",
          "text": [
            "INFO:tensorflow:*** Available Device: _DeviceAttributes(/job:worker/replica:0/task:0/device:TPU:3, TPU, 0, 0)\n"
          ],
          "name": "stderr"
        },
        {
          "output_type": "stream",
          "text": [
            "INFO:tensorflow:*** Available Device: _DeviceAttributes(/job:worker/replica:0/task:0/device:TPU:4, TPU, 0, 0)\n"
          ],
          "name": "stdout"
        },
        {
          "output_type": "stream",
          "text": [
            "INFO:tensorflow:*** Available Device: _DeviceAttributes(/job:worker/replica:0/task:0/device:TPU:4, TPU, 0, 0)\n"
          ],
          "name": "stderr"
        },
        {
          "output_type": "stream",
          "text": [
            "INFO:tensorflow:*** Available Device: _DeviceAttributes(/job:worker/replica:0/task:0/device:TPU:5, TPU, 0, 0)\n"
          ],
          "name": "stdout"
        },
        {
          "output_type": "stream",
          "text": [
            "INFO:tensorflow:*** Available Device: _DeviceAttributes(/job:worker/replica:0/task:0/device:TPU:5, TPU, 0, 0)\n"
          ],
          "name": "stderr"
        },
        {
          "output_type": "stream",
          "text": [
            "INFO:tensorflow:*** Available Device: _DeviceAttributes(/job:worker/replica:0/task:0/device:TPU:6, TPU, 0, 0)\n"
          ],
          "name": "stdout"
        },
        {
          "output_type": "stream",
          "text": [
            "INFO:tensorflow:*** Available Device: _DeviceAttributes(/job:worker/replica:0/task:0/device:TPU:6, TPU, 0, 0)\n"
          ],
          "name": "stderr"
        },
        {
          "output_type": "stream",
          "text": [
            "INFO:tensorflow:*** Available Device: _DeviceAttributes(/job:worker/replica:0/task:0/device:TPU:7, TPU, 0, 0)\n"
          ],
          "name": "stdout"
        },
        {
          "output_type": "stream",
          "text": [
            "INFO:tensorflow:*** Available Device: _DeviceAttributes(/job:worker/replica:0/task:0/device:TPU:7, TPU, 0, 0)\n"
          ],
          "name": "stderr"
        },
        {
          "output_type": "stream",
          "text": [
            "INFO:tensorflow:*** Available Device: _DeviceAttributes(/job:worker/replica:0/task:0/device:TPU_SYSTEM:0, TPU_SYSTEM, 0, 0)\n"
          ],
          "name": "stdout"
        },
        {
          "output_type": "stream",
          "text": [
            "INFO:tensorflow:*** Available Device: _DeviceAttributes(/job:worker/replica:0/task:0/device:TPU_SYSTEM:0, TPU_SYSTEM, 0, 0)\n"
          ],
          "name": "stderr"
        },
        {
          "output_type": "stream",
          "text": [
            "INFO:tensorflow:*** Available Device: _DeviceAttributes(/job:worker/replica:0/task:0/device:XLA_CPU:0, XLA_CPU, 0, 0)\n"
          ],
          "name": "stdout"
        },
        {
          "output_type": "stream",
          "text": [
            "INFO:tensorflow:*** Available Device: _DeviceAttributes(/job:worker/replica:0/task:0/device:XLA_CPU:0, XLA_CPU, 0, 0)\n"
          ],
          "name": "stderr"
        },
        {
          "output_type": "stream",
          "text": [
            "Running on TPU  ['10.68.115.210:8470']\n",
            "Number of accelerators:  8\n",
            "Name: tensorflow\n",
            "Version: 2.0.0\n",
            "Summary: TensorFlow is an open source machine learning framework for everyone.\n",
            "Home-page: https://www.tensorflow.org/\n",
            "Author: Google Inc.\n",
            "Author-email: packages@tensorflow.org\n",
            "License: Apache 2.0\n",
            "Location: /tensorflow-2.0.0/python3.6\n",
            "Requires: keras-preprocessing, numpy, gast, protobuf, astor, keras-applications, six, tensorboard, grpcio, google-pasta, wrapt, opt-einsum, tensorflow-estimator, wheel, absl-py, termcolor\n",
            "Required-by: stable-baselines, magenta, fancyimpute\n",
            "Requirement already satisfied: transformers in /usr/local/lib/python3.6/dist-packages (2.1.1)\n",
            "Requirement already satisfied: requests in /tensorflow-2.0.0/python3.6 (from transformers) (2.22.0)\n",
            "Requirement already satisfied: sentencepiece in /usr/local/lib/python3.6/dist-packages (from transformers) (0.1.83)\n",
            "Requirement already satisfied: tqdm in /usr/local/lib/python3.6/dist-packages (from transformers) (4.28.1)\n",
            "Requirement already satisfied: sacremoses in /usr/local/lib/python3.6/dist-packages (from transformers) (0.0.35)\n",
            "Requirement already satisfied: boto3 in /usr/local/lib/python3.6/dist-packages (from transformers) (1.10.18)\n",
            "Requirement already satisfied: numpy in /tensorflow-2.0.0/python3.6 (from transformers) (1.17.4)\n",
            "Requirement already satisfied: regex in /usr/local/lib/python3.6/dist-packages (from transformers) (2019.11.1)\n",
            "Requirement already satisfied: chardet<3.1.0,>=3.0.2 in /tensorflow-2.0.0/python3.6 (from requests->transformers) (3.0.4)\n",
            "Requirement already satisfied: urllib3!=1.25.0,!=1.25.1,<1.26,>=1.21.1 in /tensorflow-2.0.0/python3.6 (from requests->transformers) (1.25.7)\n",
            "Requirement already satisfied: certifi>=2017.4.17 in /tensorflow-2.0.0/python3.6 (from requests->transformers) (2019.9.11)\n",
            "Requirement already satisfied: idna<2.9,>=2.5 in /tensorflow-2.0.0/python3.6 (from requests->transformers) (2.8)\n",
            "Requirement already satisfied: click in /usr/local/lib/python3.6/dist-packages (from sacremoses->transformers) (7.0)\n",
            "Requirement already satisfied: joblib in /usr/local/lib/python3.6/dist-packages (from sacremoses->transformers) (0.14.0)\n",
            "Requirement already satisfied: six in /tensorflow-2.0.0/python3.6 (from sacremoses->transformers) (1.13.0)\n",
            "Requirement already satisfied: jmespath<1.0.0,>=0.7.1 in /usr/local/lib/python3.6/dist-packages (from boto3->transformers) (0.9.4)\n",
            "Requirement already satisfied: s3transfer<0.3.0,>=0.2.0 in /usr/local/lib/python3.6/dist-packages (from boto3->transformers) (0.2.1)\n",
            "Requirement already satisfied: botocore<1.14.0,>=1.13.18 in /usr/local/lib/python3.6/dist-packages (from boto3->transformers) (1.13.18)\n",
            "Requirement already satisfied: python-dateutil<2.8.1,>=2.1; python_version >= \"2.7\" in /usr/local/lib/python3.6/dist-packages (from botocore<1.14.0,>=1.13.18->boto3->transformers) (2.6.1)\n",
            "Requirement already satisfied: docutils<0.16,>=0.10 in /usr/local/lib/python3.6/dist-packages (from botocore<1.14.0,>=1.13.18->boto3->transformers) (0.15.2)\n",
            "Name: transformers\n",
            "Version: 2.1.1\n",
            "Summary: State-of-the-art Natural Language Processing for TensorFlow 2.0 and PyTorch\n",
            "Home-page: https://github.com/huggingface/transformers\n",
            "Author: Thomas Wolf, Lysandre Debut, Victor Sanh, Julien Chaumond, Google AI Language Team Authors, Open AI team Authors, Facebook AI Authors, Carnegie Mellon University Authors\n",
            "Author-email: thomas@huggingface.co\n",
            "License: Apache\n",
            "Location: /usr/local/lib/python3.6/dist-packages\n",
            "Requires: boto3, regex, numpy, tqdm, requests, sentencepiece, sacremoses\n",
            "Required-by: \n",
            "adc.json  dev_results  sample_data\n"
          ],
          "name": "stdout"
        }
      ]
    },
    {
      "cell_type": "markdown",
      "metadata": {
        "id": "Lw5gRaE1uqpF",
        "colab_type": "text"
      },
      "source": [
        "### Define data, model, classes, functions"
      ]
    },
    {
      "cell_type": "code",
      "metadata": {
        "id": "Cjoz6fLGu5pm",
        "colab_type": "code",
        "colab": {}
      },
      "source": [
        "def get_dataset(record_path, max_seq_len=512, class_weights=[]):\n",
        "    \"\"\"\n",
        "      Because distributed strategy does not support class_weights yet.\n",
        "      so we will convert class weights to sample weights instead.\n",
        "    \"\"\"\n",
        "    name_to_features = {\n",
        "      \"input_ids\": tf.io.FixedLenFeature([max_seq_len], tf.int64),\n",
        "      \"attention_mask\": tf.io.FixedLenFeature([max_seq_len], tf.int64),\n",
        "      \"token_type_ids\": tf.io.FixedLenFeature([max_seq_len], tf.int64),\n",
        "      \"label\": tf.io.FixedLenFeature([], tf.int64),\n",
        "    }\n",
        "\n",
        "    def _decode_record(example_proto):\n",
        "        \"\"\"Decodes a record to a TensorFlow example.\"\"\"\n",
        "        example_dict = tf.io.parse_single_example(example_proto, name_to_features)\n",
        "\n",
        "        # tf.Example only supports tf.int64, but the TPU only supports tf.int32.\n",
        "        # So cast all int64 to int32.\n",
        "        features_dict = {}\n",
        "        for name in list(example_dict.keys()):\n",
        "            t = example_dict[name]\n",
        "            if t.dtype == tf.int64:\n",
        "              t = tf.cast(t, tf.int32)\n",
        "            if name == \"label\" and t.dtype != tf.int32:\n",
        "              t = tf.cast(t, tf.int32)\n",
        "              print (t)\n",
        "\n",
        "            example_dict[name] = t\n",
        "            if name != \"label\":\n",
        "                features_dict[name] = t\n",
        "\n",
        "        label = example_dict[\"label\"]\n",
        "        \n",
        "        if class_weights:\n",
        "          class_weight = tf.constant(1, tf.float32)\n",
        "          for i, w in enumerate(class_weights):\n",
        "            if i == label:\n",
        "              class_weight = tf.constant(class_weights[i])\n",
        "          return (features_dict, label, class_weight)\n",
        "        else:\n",
        "          return (features_dict, label)\n",
        "\n",
        "    filenames = [record_path]\n",
        "    raw_dataset = tf.data.TFRecordDataset(filenames)\n",
        "    print (\"raw_dataset: \", raw_dataset)\n",
        "    parsed_dataset = raw_dataset.map(_decode_record)\n",
        "\n",
        "    return parsed_dataset\n",
        "\n",
        "def padd_dataset(dataset, num_padd):\n",
        "  add_dataset = dataset.take(num_padd)\n",
        "  padded_dataset = dataset.concatenate(add_dataset)\n",
        "  return padded_dataset\n",
        "\n",
        "def get_y(dataset):\n",
        "  y = []\n",
        "  for _, b_label in dataset:\n",
        "    y += b_label.numpy().tolist()\n",
        "  y = np.array(y)\n",
        "  return y\n",
        "\n",
        "import datetime\n",
        "import scipy\n",
        "from sklearn.metrics import (\n",
        "    confusion_matrix,\n",
        "    f1_score,\n",
        "    precision_score,\n",
        "    recall_score,\n",
        "    classification_report,\n",
        ")\n",
        "\n",
        "\n",
        "class ClassificationMetrics(tf.keras.callbacks.Callback):\n",
        "  def __init__(self, dev_dataset, dev_y, steps):\n",
        "    super().__init__()\n",
        "    self.dev_dataset = dev_dataset\n",
        "    self.dev_y = dev_y\n",
        "    self.steps = steps\n",
        "    self.target_names = [\"has_answer\", \"no_answer\"]\n",
        "\n",
        "    self.val_reports = []\n",
        "    self.val_logits = []\n",
        "    self.val_probs = []\n",
        "    self.val_preds = []\n",
        "    self.val_accuracies = []\n",
        "    self.val_losses = []\n",
        "    self.val_f1s = [] # we only care for the has_answer label\n",
        "\n",
        "    self.train_batch_losses = []\n",
        "    self.train_losses = []\n",
        "    self.train_accuracies = []\n",
        "\n",
        "  def on_train_begin(self, logs={}):\n",
        "    pass\n",
        "\n",
        "  def on_train_batch_end(self, batch, logs=None):\n",
        "    self.train_batch_losses.append(logs['loss'].item())\n",
        "  \n",
        "  def on_epoch_end(self, epoch, logs=None):\n",
        "    val_logits = self.model.predict(self.dev_dataset, steps=self.steps)    \n",
        "    val_probs = scipy.special.softmax(val_logits, axis=1)\n",
        "    val_preds = np.argmax(val_logits, axis=1)\n",
        "\n",
        "    val_report = classification_report(val_preds, self.dev_y, target_names=self.target_names, output_dict=True)\n",
        "    self.val_reports.append(val_report)\n",
        "    val_f1 = val_report[\"has_answer\"][\"f1-score\"]\n",
        "    self.val_f1s.append(val_f1)\n",
        "    print (\" has_answer f1: \", val_f1)\n",
        "\n",
        "    self.val_accuracies.append(logs['val_accuracy'].item())\n",
        "    self.val_losses.append(logs[\"val_loss\"])\n",
        "    \n",
        "    self.val_logits.append(val_logits.tolist())\n",
        "    self.val_probs.append(val_probs.tolist())\n",
        "    self.val_preds.append(val_preds.tolist())\n",
        "\n",
        "    self.train_losses.append(logs['loss'])\n",
        "    self.train_accuracies.append(logs['accuracy'].item())\n",
        "  \n",
        "    return\n",
        "\n",
        "  def save_results(self, out_dir, file_name):\n",
        "    import json\n",
        "\n",
        "    out_path = \"{}/{}\".format(out_dir, file_name)\n",
        "    with tf.io.gfile.GFile(out_path, \"w\") as f:\n",
        "      res_dict = {\n",
        "          \"target_names\": self.target_names,\n",
        "          \"dev_y\": self.dev_y.tolist(),\n",
        "          \"val_reports\": self.val_reports,\n",
        "          \"val_logits\": self.val_logits,\n",
        "          \"val_probs\": self.val_probs,\n",
        "          \"val_preds\": self.val_preds,\n",
        "          \"val_accuracies\": self.val_accuracies,\n",
        "          \"val_losses\": self.val_losses,\n",
        "          \"val_f1s\": self.val_f1s,\n",
        "          \"train_batch_losses\": self.train_batch_losses,\n",
        "          \"train_losses\": self.train_losses,\n",
        "          \"train_accuracies\": self.train_accuracies,\n",
        "      }\n",
        "      json.dump(res_dict, f)\n",
        "      print (\"Write file {}\".format(out_path))\n",
        "\n",
        "def cal_steps(n, batch_size):\n",
        "  remain = n % batch_size\n",
        "  padd = batch_size - remain\n",
        "  steps = n // batch_size + \\\n",
        "                int(padd > 0)\n",
        "\n",
        "  return steps, padd, remain\n",
        "\n",
        "def get_dataset_len(dataset_name):\n",
        "  return int(dataset_name.split('@')[-1].replace('.tfrecord', ''))\n"
      ],
      "execution_count": 0,
      "outputs": []
    },
    {
      "cell_type": "markdown",
      "metadata": {
        "id": "JAsPWJigDyKk",
        "colab_type": "text"
      },
      "source": [
        "### Config bucket folders, model configs, parameters"
      ]
    },
    {
      "cell_type": "code",
      "metadata": {
        "id": "4WykvpZ_uw-K",
        "colab_type": "code",
        "cellView": "both",
        "colab": {}
      },
      "source": [
        "BUCKET = 'your-bucket-name' #@param {type:\"string\"} # REPLACE YOUR bucket name here\n",
        "BUCKET_FOLDER = 'gs://{}'.format(BUCKET)\n",
        "\n",
        "# input folders\n",
        "# data folder\n",
        "BUCKET_DATA_FOLDER = '{}/glue_data/final'.format(BUCKET_FOLDER)\n",
        "BUCKET_OUT_FOLDER = '{}/out_ensemble/final'.format(BUCKET_FOLDER)\n",
        "\n",
        "DO_TRAIN = 0 #@param {type:\"number\"}\n",
        "DO_EVAL = 1 #@param {type:\"number\"}\n",
        "\n",
        "# model, dataset configs\n",
        "BERT_MODEL = 'bert-base-multilingual-cased' #@param {type:\"string\"}\n",
        "\n",
        "CURRENT_MODEL_TYPE = \"bert\" #@param {type:\"string\"}\n",
        "CURRENT_MODEL_NAME = BERT_MODEL #@param {input:\"variable\"}\n",
        "CURRENT_MAX_SEQ_LENGTH = 512 #@param {type:\"number\"}\n",
        "CURRENT_TRAIN_DATASET = \\\n",
        "  \"train90_squad@bert@bert-base-multilingual-cased@512@18302.tfrecord\"\n",
        "CURRENT_TRAIN_BT_DATASET = \\\n",
        "  \"btrain90_squad@bert@bert-base-multilingual-cased@512@36604.tfrecord\"\n",
        "CURRENT_TRAIN_100_DATASET = \\\n",
        "  \"train100_squad@bert@bert-base-multilingual-cased@512@21562.tfrecord\"\n",
        "CURRENT_TRAIN_100_BT_DATASET = \\\n",
        "  \"btrain100_squad@bert@bert-base-multilingual-cased@512@43124.tfrecord\"\n",
        "CURRENT_DEV_DATASET = \\\n",
        "  \"dev10@bert@bert-base-multilingual-cased@512@3260.tfrecord\"\n",
        "\n",
        "# Dataset config\n",
        "DEV_BATCH_SIZE = 32 #@param {type:\"number\"}\n",
        "USE_CLASS_WEIGHT = 0 #@param {type:\"number\"}"
      ],
      "execution_count": 0,
      "outputs": []
    },
    {
      "cell_type": "markdown",
      "metadata": {
        "id": "EktP5aSmxe84",
        "colab_type": "text"
      },
      "source": [
        "### Pick parameters, models"
      ]
    },
    {
      "cell_type": "code",
      "metadata": {
        "id": "DHEYbADwoesJ",
        "colab_type": "code",
        "outputId": "7ec9c98b-c439-4513-cf57-5233a5a00e70",
        "colab": {
          "base_uri": "https://localhost:8080/",
          "height": 286
        }
      },
      "source": [
        "# we test out different parameter pairs\n",
        "# we use the maximum sequence length which is 512\n",
        "# learning rate, reg epsilon, batch_size, num_epoch, post_fix\n",
        "param_pairs = [\n",
        "  [2e-5, 1e-7, 16, 5, \"\"], # 0.8 param 2, 3\n",
        "  [2e-5, 1e-7, 16, 5, \"bt\"], # 0.8 param 1, 2\n",
        "  [2e-5, 1e-7, 32, 4, \"bt\"], # 1, 2\n",
        "  [2e-5, 1e-7, 32, 4, \"\"], # 1, 2\n",
        "  # here for the full train dataset\n",
        "  # (include the dev set for training also)\n",
        "  [2e-5, 1e-7, 16, 5, \"100\"],\n",
        "  [2e-5, 1e-7, 16, 5, \"100bt\"],\n",
        "  [2e-5, 1e-7, 32, 4, \"100bt\"],\n",
        "  [2e-5, 1e-7, 32, 4, \"100\"],\n",
        "]\n",
        "\n",
        "CURRENT_PAIR = 7 #@param {type:\"number\"}\n",
        "learing_rate = param_pairs[CURRENT_PAIR][0]\n",
        "epsilon      = param_pairs[CURRENT_PAIR][1]\n",
        "batch_size   = param_pairs[CURRENT_PAIR][2]\n",
        "num_epochs   = param_pairs[CURRENT_PAIR][3]\n",
        "post_fix     = param_pairs[CURRENT_PAIR][4]\n",
        "\n",
        "train_dataset_name = CURRENT_TRAIN_DATASET\n",
        "if post_fix == 'bt':\n",
        "  train_dataset_name = CURRENT_TRAIN_BT_DATASET\n",
        "elif post_fix == '100':\n",
        "  train_dataset_name = CURRENT_TRAIN_100_DATASET\n",
        "elif post_fix == '100bt':\n",
        "  train_dataset_name = CURRENT_TRAIN_100_BT_DATASET\n",
        "train_record_path = \"{}/{}\".format(\n",
        "    BUCKET_DATA_FOLDER,\n",
        "    train_dataset_name,\n",
        ")\n",
        "\n",
        "dev_dataset_name = CURRENT_DEV_DATASET\n",
        "dev_record_path = \"{}/{}\".format(\n",
        "    BUCKET_DATA_FOLDER,\n",
        "    dev_dataset_name,\n",
        ")\n",
        "\n",
        "train_n = get_dataset_len(train_dataset_name)\n",
        "dev_n = get_dataset_len(dev_dataset_name)\n",
        "\n",
        "train_steps, train_padd, train_remain = cal_steps(train_n, batch_size)\n",
        "dev_steps, dev_padd, dev_remain = cal_steps(dev_n, DEV_BATCH_SIZE)\n",
        "\n",
        "out_model_name = \"{}_lr{}_eps{}_bs{}_ep{}\".format(\n",
        "    CURRENT_MODEL_TYPE,\n",
        "    learing_rate,\n",
        "    epsilon,\n",
        "    batch_size,\n",
        "    num_epochs,\n",
        ")\n",
        "if post_fix:\n",
        "  out_model_name += \"_{}\".format(post_fix)\n",
        "out_model_ckpt_name = \"cp-{epoch:02d}.ckpt\"\n",
        "bucket_out_model_root_folder = BUCKET_OUT_FOLDER\n",
        "bucket_out_model_cp_path = \"{}/{}/{}\".format(\n",
        "    bucket_out_model_root_folder, out_model_name, out_model_ckpt_name\n",
        ")\n",
        "\n",
        "print (\"train_record_path: \", train_record_path)\n",
        "print (\"dev_record_path: \", dev_record_path)\n",
        "print (\"train_n: \", train_n)\n",
        "print (\"dev_n: \", dev_n)\n",
        "\n",
        "print (\"train_remain: \", train_remain)\n",
        "print (\"train_padd: \", train_padd)\n",
        "print (\"train_steps: \", train_steps)\n",
        "\n",
        "print (\"learing_rate: \", learing_rate)\n",
        "print (\"epsilon: \", epsilon)\n",
        "print (\"batch_size: \", batch_size)\n",
        "print (\"num_epochs: \", num_epochs)\n",
        "print (\"post_fix: \", post_fix)\n",
        "print (\"bucket_out_model_root_folder: \", bucket_out_model_root_folder)\n",
        "print (\"out_model_name: \", out_model_name)\n",
        "print (\"out_model_ckpt_name: \", out_model_ckpt_name)\n",
        "print (\"bucket_out_model_cp_path: \", bucket_out_model_cp_path)"
      ],
      "execution_count": 0,
      "outputs": [
        {
          "output_type": "stream",
          "text": [
            "train_record_path:  gs://bert-training-bucket/glue_data/final/train100_squad@bert@bert-base-multilingual-cased@512@21562.tfrecord\n",
            "dev_record_path:  gs://bert-training-bucket/glue_data/final/dev10@bert@bert-base-multilingual-cased@512@3260.tfrecord\n",
            "train_n:  21562\n",
            "dev_n:  3260\n",
            "train_remain:  26\n",
            "train_padd:  6\n",
            "train_steps:  674\n",
            "learing_rate:  2e-05\n",
            "epsilon:  1e-07\n",
            "batch_size:  32\n",
            "num_epochs:  4\n",
            "post_fix:  100\n",
            "bucket_out_model_root_folder:  gs://bert-training-bucket/out_ensemble/final\n",
            "out_model_name:  bert_lr2e-05_eps1e-07_bs32_ep4_100\n",
            "out_model_ckpt_name:  cp-{epoch:02d}.ckpt\n",
            "bucket_out_model_cp_path:  gs://bert-training-bucket/out_ensemble/final/bert_lr2e-05_eps1e-07_bs32_ep4_100/cp-{epoch:02d}.ckpt\n"
          ],
          "name": "stdout"
        }
      ]
    },
    {
      "cell_type": "markdown",
      "metadata": {
        "id": "qtA0aU4y4Ew6",
        "colab_type": "text"
      },
      "source": [
        "### Load and config datasets"
      ]
    },
    {
      "cell_type": "code",
      "metadata": {
        "id": "SRvLQYR7Gqx5",
        "colab_type": "code",
        "outputId": "f3ea60c1-5be5-46c1-8d5a-5fc348d0500d",
        "colab": {
          "base_uri": "https://localhost:8080/",
          "height": 121
        }
      },
      "source": [
        "if tpu:\n",
        "  train_dataset = get_dataset(train_record_path, max_seq_len=CURRENT_MAX_SEQ_LENGTH)\n",
        "else:\n",
        "  # train_dataset = get_dataset(train_record_path, max_seq_len=CURRENT_MAX_SEQ_LENGTH, class_weights=[1.5, 0.7])\n",
        "  train_dataset = get_dataset(train_record_path, max_seq_len=CURRENT_MAX_SEQ_LENGTH)\n",
        "dev_dataset = get_dataset(dev_record_path, max_seq_len=CURRENT_MAX_SEQ_LENGTH)\n",
        "\n",
        "# padd dataset for TPU\n",
        "train_dataset = padd_dataset(train_dataset, train_padd)\n",
        "dev_dataset = padd_dataset(dev_dataset, dev_padd)\n",
        "\n",
        "train_dataset = train_dataset.shuffle(train_n, reshuffle_each_iteration=True).batch(batch_size, drop_remainder=True) # make sure drop_remainder=True for TPU\n",
        "dev_dataset = dev_dataset.batch(DEV_BATCH_SIZE, drop_remainder=True)\n",
        "\n",
        "# get dev labels for metrics\n",
        "dev_y = get_y(dev_dataset)\n",
        "print (\"dev_y.shape: \", dev_y.shape)\n",
        "\n",
        "train_dataset = train_dataset.repeat(num_epochs)\n",
        "print (\"train_dataset: \", train_dataset)\n",
        "print (\"dev_dataset: \", dev_dataset)\n",
        "\n",
        "# class weight. TPU doesn't support yet\n",
        "from sklearn.utils import class_weight\n",
        "class_weights_dict = {\n",
        "    0: 1.0,\n",
        "    1: 1.0,\n",
        "}\n",
        "if 0:\n",
        "  class_weights = class_weight.compute_class_weight('balanced', [0, 1], train_y)\n",
        "  class_weights_dict = dict(enumerate(class_weights))"
      ],
      "execution_count": 0,
      "outputs": [
        {
          "output_type": "stream",
          "text": [
            "raw_dataset:  <TFRecordDatasetV2 shapes: (), types: tf.string>\n",
            "raw_dataset:  <TFRecordDatasetV2 shapes: (), types: tf.string>\n",
            "dev_y.shape:  (3264,)\n",
            "train_dataset:  <RepeatDataset shapes: ({attention_mask: (32, 512), input_ids: (32, 512), token_type_ids: (32, 512)}, (32,)), types: ({attention_mask: tf.int32, input_ids: tf.int32, token_type_ids: tf.int32}, tf.int32)>\n",
            "dev_dataset:  <BatchDataset shapes: ({attention_mask: (32, 512), input_ids: (32, 512), token_type_ids: (32, 512)}, (32,)), types: ({attention_mask: tf.int32, input_ids: tf.int32, token_type_ids: tf.int32}, tf.int32)>\n"
          ],
          "name": "stdout"
        }
      ]
    },
    {
      "cell_type": "markdown",
      "metadata": {
        "id": "XZC0O961rWH3",
        "colab_type": "text"
      },
      "source": [
        "### Build and train the model"
      ]
    },
    {
      "cell_type": "code",
      "metadata": {
        "id": "o4Olw8CcrBDm",
        "colab_type": "code",
        "colab": {}
      },
      "source": [
        "def get_model(lr, eps):\n",
        "    opt = tf.keras.optimizers.Adam(learning_rate=lr, epsilon=eps, clipnorm=1.0)\n",
        "    loss = tf.keras.losses.SparseCategoricalCrossentropy(from_logits=True)\n",
        "    metric = tf.keras.metrics.SparseCategoricalAccuracy('accuracy')\n",
        "\n",
        "    model = TFBertForSequenceClassification.from_pretrained('bert-base-multilingual-cased')\n",
        "    # model = TFXLMForSequenceClassification.from_pretrained('xlm-mlm-17-1280')\n",
        "    # model = TFXLMForSequenceClassification.from_pretrained('xlm-mlm-xnli15-1024')\n",
        "    model.compile(optimizer=opt, loss=loss, metrics=[metric])\n",
        "\n",
        "    return model"
      ],
      "execution_count": 0,
      "outputs": []
    },
    {
      "cell_type": "code",
      "metadata": {
        "id": "raalZq6zIIB-",
        "colab_type": "code",
        "outputId": "359a2567-d730-4ac0-a924-551022f6a850",
        "colab": {
          "base_uri": "https://localhost:8080/",
          "height": 1000
        }
      },
      "source": [
        "import matplotlib.pyplot as plt\n",
        "\n",
        "def plot_results(array_data, title, x_label, y_label, legends, loc=\"lower right\"):\n",
        "  for data in array_data:\n",
        "    plt.plot(data)\n",
        "  plt.title(title)\n",
        "  plt.xlabel(x_label)\n",
        "  plt.ylabel(y_label)\n",
        "  plt.legend(legends, loc=loc)\n",
        "  plt.show()\n",
        "\n",
        "if DO_TRAIN:\n",
        "  cp_callback = tf.keras.callbacks.ModelCheckpoint(\n",
        "      filepath=bucket_out_model_cp_path,\n",
        "      save_weights_only=True,\n",
        "      monitor='val_loss',\n",
        "      save_freq='epoch',\n",
        "      verbose=1,\n",
        "  )\n",
        "\n",
        "  cls_metrics = ClassificationMetrics(dev_dataset, dev_y, dev_steps)\n",
        "  bucket_summary_name = \"{}.json\".format(out_model_name)\n",
        "\n",
        "  # tf.keras.backend.clear_session()\n",
        "  with strategy.scope():\n",
        "    model = get_model(learing_rate, epsilon)\n",
        "\n",
        "  print (\"Training with params: \", param_pairs[CURRENT_PAIR])\n",
        "  history = model.fit(\n",
        "              train_dataset,\n",
        "              validation_data=dev_dataset,\n",
        "              epochs=num_epochs,\n",
        "              steps_per_epoch=train_steps,\n",
        "              validation_steps=dev_steps,\n",
        "              # sample_weight=train_sample_weights,\n",
        "              # class_weight=class_weights_dict, # currently not support distributed strategy\n",
        "              callbacks=[cls_metrics, cp_callback])\n",
        "\n",
        "  # save results\n",
        "  cls_metrics.save_results(bucket_out_model_root_folder, bucket_summary_name)\n",
        "\n",
        "  # plot stuff\n",
        "  # plot the batch train loss first\n",
        "  plot_results([cls_metrics.train_batch_losses], \"Train batch losses\", \"batch\", \"loss\", [\"train\"])\n",
        "\n",
        "  # plot epoch train, dev losses\n",
        "  plot_results([cls_metrics.train_losses, cls_metrics.val_losses], \"Train dev losses\", \"epoch\", \"loss\", [\"train\", \"dev\"])\n",
        "\n",
        "  # plot epoch train, dev accuracies\n",
        "  plot_results([cls_metrics.train_accuracies, cls_metrics.val_accuracies], \"Train dev accuracies\", \"epoch\", \"accuracy\", [\"train\", \"dev\"])\n",
        "\n",
        "  # plot epoch dev f1\n",
        "  plot_results([cls_metrics.val_f1s], \"Dev f1 has_answer\", \"epoch\", \"f1\", [\"dev\"])\n",
        "\n",
        "  print (\"cls_metrics.val_f1s: \", cls_metrics.val_f1s)"
      ],
      "execution_count": 0,
      "outputs": [
        {
          "output_type": "stream",
          "text": [
            "100%|██████████| 521/521 [00:00<00:00, 120034.74B/s]\n",
            "100%|██████████| 1083389348/1083389348 [00:21<00:00, 50546260.37B/s]\n"
          ],
          "name": "stderr"
        },
        {
          "output_type": "stream",
          "text": [
            "Training with params:  [2e-05, 1e-07, 32, 4, '100']\n",
            "WARNING:tensorflow:Expected a shuffled dataset but input dataset `x` is not shuffled. Please invoke `shuffle()` on input dataset.\n"
          ],
          "name": "stdout"
        },
        {
          "output_type": "stream",
          "text": [
            "WARNING:tensorflow:Expected a shuffled dataset but input dataset `x` is not shuffled. Please invoke `shuffle()` on input dataset.\n"
          ],
          "name": "stderr"
        },
        {
          "output_type": "stream",
          "text": [
            "Train on 674 steps, validate on 102 steps\n",
            "Epoch 1/4\n",
            "673/674 [============================>.] - ETA: 0s - loss: 0.3942 - accuracy: 0.8170 has_answer f1:  0.884653961885657\n",
            "\n",
            "Epoch 00001: saving model to gs://bert-training-bucket/out_ensemble/final/bert_lr2e-05_eps1e-07_bs32_ep4_100/cp-01.ckpt\n",
            "674/674 [==============================] - 315s 468ms/step - loss: 0.3939 - accuracy: 0.8171 - val_loss: 0.1958 - val_accuracy: 0.9295\n",
            "Epoch 2/4\n",
            "673/674 [============================>.] - ETA: 0s - loss: 0.2474 - accuracy: 0.8976 has_answer f1:  0.9278350515463918\n",
            "\n",
            "Epoch 00002: saving model to gs://bert-training-bucket/out_ensemble/final/bert_lr2e-05_eps1e-07_bs32_ep4_100/cp-02.ckpt\n",
            "674/674 [==============================] - 234s 347ms/step - loss: 0.2473 - accuracy: 0.8976 - val_loss: 0.1148 - val_accuracy: 0.9571\n",
            "Epoch 3/4\n",
            "673/674 [============================>.] - ETA: 0s - loss: 0.1521 - accuracy: 0.9421 has_answer f1:  0.9797730636408486\n",
            "\n",
            "Epoch 00003: saving model to gs://bert-training-bucket/out_ensemble/final/bert_lr2e-05_eps1e-07_bs32_ep4_100/cp-03.ckpt\n",
            "674/674 [==============================] - 212s 315ms/step - loss: 0.1523 - accuracy: 0.9420 - val_loss: 0.0447 - val_accuracy: 0.9874\n",
            "Epoch 4/4\n",
            "673/674 [============================>.] - ETA: 0s - loss: 0.1003 - accuracy: 0.9635 has_answer f1:  0.9877750611246945\n",
            "\n",
            "Epoch 00004: saving model to gs://bert-training-bucket/out_ensemble/final/bert_lr2e-05_eps1e-07_bs32_ep4_100/cp-04.ckpt\n",
            "674/674 [==============================] - 211s 313ms/step - loss: 0.1003 - accuracy: 0.9635 - val_loss: 0.0300 - val_accuracy: 0.9923\n",
            "Write file gs://bert-training-bucket/out_ensemble/final/bert_lr2e-05_eps1e-07_bs32_ep4_100.json\n"
          ],
          "name": "stdout"
        },
        {
          "output_type": "display_data",
          "data": {
            "image/png": "[encoded data removed]",
            "text/plain": [
              "<Figure size 432x288 with 1 Axes>"
            ]
          },
          "metadata": {
            "tags": []
          }
        },
        {
          "output_type": "display_data",
          "data": {
            "image/png": "[encoded data removed]",
            "text/plain": [
              "<Figure size 432x288 with 1 Axes>"
            ]
          },
          "metadata": {
            "tags": []
          }
        },
        {
          "output_type": "display_data",
          "data": {
            "image/png": "[encoded data removed]",
            "text/plain": [
              "<Figure size 432x288 with 1 Axes>"
            ]
          },
          "metadata": {
            "tags": []
          }
        },
        {
          "output_type": "display_data",
          "data": {
            "image/png": "[encoded data removed]",
            "text/plain": [
              "<Figure size 432x288 with 1 Axes>"
            ]
          },
          "metadata": {
            "tags": []
          }
        },
        {
          "output_type": "stream",
          "text": [
            "cls_metrics.val_f1s:  [0.884653961885657, 0.9278350515463918, 0.9797730636408486, 0.9877750611246945]\n"
          ],
          "name": "stdout"
        }
      ]
    },
    {
      "cell_type": "markdown",
      "metadata": {
        "id": "XpDQ9Myzhl-m",
        "colab_type": "text"
      },
      "source": [
        "### Ensemble predict, gen submit functions"
      ]
    },
    {
      "cell_type": "code",
      "metadata": {
        "id": "vFKKupZFyRSU",
        "colab_type": "code",
        "outputId": "ac068413-350e-414d-9bf3-cf8e4fe26dc7",
        "colab": {
          "base_uri": "https://localhost:8080/",
          "height": 319
        }
      },
      "source": [
        "if DO_EVAL:\n",
        "  !mkdir dev_results\n",
        "  !rm -f dev_results/*\n",
        "  !gsutil cp {bucket_out_model_root_folder}/*.json dev_results/"
      ],
      "execution_count": 0,
      "outputs": [
        {
          "output_type": "stream",
          "text": [
            "mkdir: cannot create directory ‘dev_results’: File exists\n",
            "Copying gs://bert-training-bucket/out_ensemble/final/bert_lr2e-05_eps1e-07_bs16_ep5.json...\n",
            "Copying gs://bert-training-bucket/out_ensemble/final/bert_lr2e-05_eps1e-07_bs16_ep5_100.json...\n",
            "Copying gs://bert-training-bucket/out_ensemble/final/bert_lr2e-05_eps1e-07_bs16_ep5_100bt.json...\n",
            "Copying gs://bert-training-bucket/out_ensemble/final/bert_lr2e-05_eps1e-07_bs16_ep5_bt.json...\n",
            "- [4 files][  6.4 MiB/  6.4 MiB]                                                \n",
            "==> NOTE: You are performing a sequence of gsutil operations that may\n",
            "run significantly faster if you instead use gsutil -m cp ... Please\n",
            "see the -m section under \"gsutil help options\" for further information\n",
            "about when gsutil -m can be advantageous.\n",
            "\n",
            "Copying gs://bert-training-bucket/out_ensemble/final/bert_lr2e-05_eps1e-07_bs32_ep4.json...\n",
            "Copying gs://bert-training-bucket/out_ensemble/final/bert_lr2e-05_eps1e-07_bs32_ep4_100.json...\n",
            "Copying gs://bert-training-bucket/out_ensemble/final/bert_lr2e-05_eps1e-07_bs32_ep4_100bt.json...\n",
            "Copying gs://bert-training-bucket/out_ensemble/final/bert_lr2e-05_eps1e-07_bs32_ep4_bt.json...\n",
            "Copying gs://bert-training-bucket/out_ensemble/final/best_models.json...\n",
            "| [9 files][ 11.1 MiB/ 11.1 MiB]                                                \n",
            "Operation completed over 9 objects/11.1 MiB.                                     \n"
          ],
          "name": "stdout"
        }
      ]
    },
    {
      "cell_type": "code",
      "metadata": {
        "id": "ceNYT5UAYT5L",
        "colab_type": "code",
        "outputId": "5a99446a-23a7-4a36-b4a8-2be8bed8d21a",
        "colab": {
          "base_uri": "https://localhost:8080/",
          "height": 168
        }
      },
      "source": [
        "!ls dev_results"
      ],
      "execution_count": 0,
      "outputs": [
        {
          "output_type": "stream",
          "text": [
            "bert_lr2e-05_eps1e-07_bs16_ep5_100bt.json\n",
            "bert_lr2e-05_eps1e-07_bs16_ep5_100.json\n",
            "bert_lr2e-05_eps1e-07_bs16_ep5_bt.json\n",
            "bert_lr2e-05_eps1e-07_bs16_ep5.json\n",
            "bert_lr2e-05_eps1e-07_bs32_ep4_100bt.json\n",
            "bert_lr2e-05_eps1e-07_bs32_ep4_100.json\n",
            "bert_lr2e-05_eps1e-07_bs32_ep4_bt.json\n",
            "bert_lr2e-05_eps1e-07_bs32_ep4.json\n",
            "best_models.json\n"
          ],
          "name": "stdout"
        }
      ]
    },
    {
      "cell_type": "code",
      "metadata": {
        "id": "oK-knmUGhyMn",
        "colab_type": "code",
        "outputId": "3cb3e7fd-aabe-4d8b-8cae-9b371318441f",
        "colab": {
          "base_uri": "https://localhost:8080/",
          "height": 490
        }
      },
      "source": [
        "import json\n",
        "import glob\n",
        "\n",
        "def ensemble_predictions(list_probs):\n",
        "  arr = np.array(list_probs)\n",
        "  combined_probs = np.mean(list_probs, axis=0)\n",
        "  return combined_probs\n",
        "\n",
        "def find_best_epoch_ckpts(model_name, model_data_type, dev_result, k=2, threshold=0.8):\n",
        "  # we find best epoch for 100 full dataset later\n",
        "  # depends on the 90 dataset results\n",
        "  if model_data_type.startswith('100'):\n",
        "    return []\n",
        "\n",
        "  val_f1s = np.array(dev_result[\"val_f1s\"])\n",
        "  val_losses = np.array(dev_result[\"val_losses\"])\n",
        "  n_epoch = len(dev_result[\"val_f1s\"])\n",
        "\n",
        "  # find the two epochs that has the smallest losses\n",
        "  sorted_idxs = np.argsort(val_losses)\n",
        "\n",
        "  res_epochs = sorted_idxs[:k]\n",
        "\n",
        "  print (\"model_ame: \", model_name)\n",
        "  print (\"sorted_idxs: \", sorted_idxs)\n",
        "  print (\"sorted val_losses: \", val_losses[sorted_idxs])\n",
        "  print (\"sorted val_f1s: \", val_f1s[sorted_idxs])\n",
        "  print (\"res_epochs: \", res_epochs)\n",
        "\n",
        "  return (res_epochs + 1).tolist()\n",
        "\n",
        "def ensemble_on_dev_set(in_dir, dev_y, out_dir, model_type=\"bert\"):\n",
        "  # 0. find best models\n",
        "  best_models = [] # name, list epoch ckpts\n",
        "  list90_probs = []\n",
        "  for path in tf.io.gfile.glob(\"{}/{}*.json\".format(in_dir, model_type)):\n",
        "    model_name = path.split(\"/\")[-1].replace(\".json\", \"\")\n",
        "    with tf.io.gfile.GFile(path, 'r') as f:\n",
        "      dev_result = json.load(f)\n",
        "    model_data_type = model_name.split('_')[-1]\n",
        "    epoch_ckpts = find_best_epoch_ckpts(model_name, model_data_type, dev_result)\n",
        "    best_models.append((model_name, epoch_ckpts))\n",
        "\n",
        "    # 1. gather predictions from list models\n",
        "    # we only evaluate on 90% datasets\n",
        "    if not model_data_type.startswith('100'):\n",
        "      for ep in epoch_ckpts:\n",
        "        list90_probs.append(dev_result[\"val_probs\"][ep - 1])\n",
        "  \n",
        "  # 2. combine the results\n",
        "  combined90_probs = ensemble_predictions(list90_probs)\n",
        "  \n",
        "  # 3. check the result against the dev_y\n",
        "  combined90_preds = np.argmax(combined90_probs, axis=1)\n",
        "  \n",
        "  # 4. print result\n",
        "  report90 = classification_report(dev_y, combined90_preds, target_names=[\"has_answer\", \"no_answer\"], output_dict=True)\n",
        "  print (report90)\n",
        "\n",
        "  # 5. update best epochs for 100 datasets based on 90 dataset resutls\n",
        "  for i, (model_name, epochs) in enumerate(best_models):\n",
        "    model_data_type = model_name.split('_')[-1]\n",
        "    if model_data_type.startswith('100'):\n",
        "      model_name90 = model_name.replace('100', '')\n",
        "      if model_name90[-1] == '_':\n",
        "        model_name90 = model_name90[:-1]\n",
        "      # find the corresponding 90 dataset result\n",
        "      for (model_namej, epochs90) in best_models:\n",
        "        if model_namej == model_name90:\n",
        "          best_models[i] = (model_name, epochs90)\n",
        "          print (\"{} -- {}\".format(model_name, model_name90))\n",
        "\n",
        "  # 6. save the best model list\n",
        "  best_models_dict = {\n",
        "      \"best_models\": best_models,\n",
        "      \"report90\": report90,\n",
        "  }\n",
        "  out_path = \"{}/best_models.json\".format(out_dir)\n",
        "  with tf.io.gfile.GFile(out_path, \"w\") as f:\n",
        "    json.dump(best_models_dict, f)\n",
        "  print (\"Write file {}\".format(out_path))\n",
        "\n",
        "  return best_models\n",
        "\n",
        "if DO_EVAL:\n",
        "  best_models = ensemble_on_dev_set(\"dev_results\", dev_y, bucket_out_model_root_folder)\n",
        "  print (best_models)"
      ],
      "execution_count": 0,
      "outputs": [
        {
          "output_type": "stream",
          "text": [
            "model_ame:  bert_lr2e-05_eps1e-07_bs32_ep4_bt\n",
            "sorted_idxs:  [0 1 2 3]\n",
            "sorted val_losses:  [0.2823588  0.30936212 0.45990221 0.47831058]\n",
            "sorted val_f1s:  [0.80995935 0.81680162 0.78541667 0.81676326]\n",
            "res_epochs:  [0 1]\n",
            "model_ame:  bert_lr2e-05_eps1e-07_bs32_ep4\n",
            "sorted_idxs:  [0 1 2 3]\n",
            "sorted val_losses:  [0.28838922 0.2938586  0.33571253 0.36120369]\n",
            "sorted val_f1s:  [0.77717976 0.79441118 0.81194907 0.80738523]\n",
            "res_epochs:  [0 1]\n",
            "model_ame:  bert_lr2e-05_eps1e-07_bs16_ep5\n",
            "sorted_idxs:  [2 1 3 4 0]\n",
            "sorted val_losses:  [0.28933679 0.29570438 0.39005449 0.39593623 0.42526946]\n",
            "sorted val_f1s:  [0.80180632 0.79737903 0.79647851 0.80802882 0.60967945]\n",
            "res_epochs:  [2 1]\n",
            "model_ame:  bert_lr2e-05_eps1e-07_bs16_ep5_bt\n",
            "sorted_idxs:  [0 1 3 2 4]\n",
            "sorted val_losses:  [0.31054767 0.3414725  0.4595162  0.4630361  0.63810991]\n",
            "sorted val_f1s:  [0.80695334 0.8023088  0.80564406 0.7867151  0.79650565]\n",
            "res_epochs:  [0 1]\n",
            "{'has_answer': {'precision': 0.8621399176954733, 'recall': 0.8199608610567515, 'f1-score': 0.8405215646940823, 'support': 1022}, 'no_answer': {'precision': 0.9197207678883071, 'recall': 0.9402319357716324, 'f1-score': 0.9298632554036171, 'support': 2242}, 'accuracy': 0.9025735294117647, 'macro avg': {'precision': 0.8909303427918902, 'recall': 0.880096398414192, 'f1-score': 0.8851924100488497, 'support': 3264}, 'weighted avg': {'precision': 0.90169146981935, 'recall': 0.9025735294117647, 'f1-score': 0.9018892333738546, 'support': 3264}}\n",
            "bert_lr2e-05_eps1e-07_bs16_ep5_100 -- bert_lr2e-05_eps1e-07_bs16_ep5\n",
            "bert_lr2e-05_eps1e-07_bs32_ep4_100bt -- bert_lr2e-05_eps1e-07_bs32_ep4_bt\n",
            "bert_lr2e-05_eps1e-07_bs16_ep5_100bt -- bert_lr2e-05_eps1e-07_bs16_ep5_bt\n",
            "bert_lr2e-05_eps1e-07_bs32_ep4_100 -- bert_lr2e-05_eps1e-07_bs32_ep4\n",
            "Write file gs://bert-training-bucket/out_ensemble/final/best_models.json\n",
            "[('bert_lr2e-05_eps1e-07_bs16_ep5_100', [3, 2]), ('bert_lr2e-05_eps1e-07_bs32_ep4_100bt', [1, 2]), ('bert_lr2e-05_eps1e-07_bs16_ep5_100bt', [1, 2]), ('bert_lr2e-05_eps1e-07_bs32_ep4_bt', [1, 2]), ('bert_lr2e-05_eps1e-07_bs32_ep4', [1, 2]), ('bert_lr2e-05_eps1e-07_bs16_ep5', [3, 2]), ('bert_lr2e-05_eps1e-07_bs32_ep4_100', [1, 2]), ('bert_lr2e-05_eps1e-07_bs16_ep5_bt', [1, 2])]\n"
          ],
          "name": "stdout"
        }
      ]
    },
    {
      "cell_type": "code",
      "metadata": {
        "id": "m3mv4VmEdHFD",
        "colab_type": "code",
        "colab": {}
      },
      "source": [
        ""
      ],
      "execution_count": 0,
      "outputs": []
    }
  ]
}